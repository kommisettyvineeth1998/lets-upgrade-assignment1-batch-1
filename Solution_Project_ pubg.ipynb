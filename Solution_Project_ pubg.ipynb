{
 "cells": [
  {
   "cell_type": "markdown",
   "metadata": {},
   "source": [
    "# Importing Relevant Library"
   ]
  },
  {
   "cell_type": "code",
   "execution_count": 12,
   "metadata": {},
   "outputs": [],
   "source": [
    "import pandas as pd\n",
    "import numpy as np\n",
    "import matplotlib.pyplot as plt\n",
    "import seaborn as sns\n",
    "%matplotlib inline\n",
    "plt.rcParams['figure.figsize'] = (16,8)"
   ]
  },
  {
   "cell_type": "markdown",
   "metadata": {},
   "source": [
    "# 1. Read the dataset."
   ]
  },
  {
   "cell_type": "code",
   "execution_count": 2,
   "metadata": {},
   "outputs": [
    {
     "data": {
      "text/html": [
       "<div>\n",
       "<style scoped>\n",
       "    .dataframe tbody tr th:only-of-type {\n",
       "        vertical-align: middle;\n",
       "    }\n",
       "\n",
       "    .dataframe tbody tr th {\n",
       "        vertical-align: top;\n",
       "    }\n",
       "\n",
       "    .dataframe thead th {\n",
       "        text-align: right;\n",
       "    }\n",
       "</style>\n",
       "<table border=\"1\" class=\"dataframe\">\n",
       "  <thead>\n",
       "    <tr style=\"text-align: right;\">\n",
       "      <th></th>\n",
       "      <th>Id</th>\n",
       "      <th>groupId</th>\n",
       "      <th>matchId</th>\n",
       "      <th>assists</th>\n",
       "      <th>boosts</th>\n",
       "      <th>damageDealt</th>\n",
       "      <th>DBNOs</th>\n",
       "      <th>headshotKills</th>\n",
       "      <th>heals</th>\n",
       "      <th>killPlace</th>\n",
       "      <th>killPoints</th>\n",
       "      <th>kills</th>\n",
       "      <th>killStreaks</th>\n",
       "      <th>longestKill</th>\n",
       "      <th>matchDuration</th>\n",
       "      <th>matchType</th>\n",
       "      <th>maxPlace</th>\n",
       "      <th>numGroups</th>\n",
       "      <th>rankPoints</th>\n",
       "      <th>revives</th>\n",
       "      <th>rideDistance</th>\n",
       "      <th>roadKills</th>\n",
       "      <th>swimDistance</th>\n",
       "      <th>teamKills</th>\n",
       "      <th>vehicleDestroys</th>\n",
       "      <th>walkDistance</th>\n",
       "      <th>weaponsAcquired</th>\n",
       "      <th>winPoints</th>\n",
       "      <th>winPlacePerc</th>\n",
       "    </tr>\n",
       "  </thead>\n",
       "  <tbody>\n",
       "    <tr>\n",
       "      <th>0</th>\n",
       "      <td>2f262dd9795e60</td>\n",
       "      <td>78437bcd91d40e</td>\n",
       "      <td>d5db3a49eb2955</td>\n",
       "      <td>0</td>\n",
       "      <td>0</td>\n",
       "      <td>0.00</td>\n",
       "      <td>0</td>\n",
       "      <td>0</td>\n",
       "      <td>0</td>\n",
       "      <td>92</td>\n",
       "      <td>1126</td>\n",
       "      <td>0</td>\n",
       "      <td>0</td>\n",
       "      <td>0.000</td>\n",
       "      <td>1376</td>\n",
       "      <td>squad-fpp</td>\n",
       "      <td>29</td>\n",
       "      <td>28</td>\n",
       "      <td>-1</td>\n",
       "      <td>0</td>\n",
       "      <td>0.0</td>\n",
       "      <td>0</td>\n",
       "      <td>0.0</td>\n",
       "      <td>0</td>\n",
       "      <td>0</td>\n",
       "      <td>0.0</td>\n",
       "      <td>0</td>\n",
       "      <td>1470</td>\n",
       "      <td>0.0000</td>\n",
       "    </tr>\n",
       "    <tr>\n",
       "      <th>1</th>\n",
       "      <td>a32847cf5bf34b</td>\n",
       "      <td>85b7ce5a12e10b</td>\n",
       "      <td>65223f05c7fdb4</td>\n",
       "      <td>0</td>\n",
       "      <td>0</td>\n",
       "      <td>163.20</td>\n",
       "      <td>1</td>\n",
       "      <td>1</td>\n",
       "      <td>0</td>\n",
       "      <td>42</td>\n",
       "      <td>1309</td>\n",
       "      <td>1</td>\n",
       "      <td>1</td>\n",
       "      <td>6.589</td>\n",
       "      <td>1370</td>\n",
       "      <td>squad-fpp</td>\n",
       "      <td>28</td>\n",
       "      <td>28</td>\n",
       "      <td>-1</td>\n",
       "      <td>0</td>\n",
       "      <td>0.0</td>\n",
       "      <td>0</td>\n",
       "      <td>0.0</td>\n",
       "      <td>0</td>\n",
       "      <td>0</td>\n",
       "      <td>132.7</td>\n",
       "      <td>2</td>\n",
       "      <td>1531</td>\n",
       "      <td>0.2222</td>\n",
       "    </tr>\n",
       "    <tr>\n",
       "      <th>2</th>\n",
       "      <td>1b1900a9990396</td>\n",
       "      <td>edf80d6523380a</td>\n",
       "      <td>1cadec4534f30a</td>\n",
       "      <td>0</td>\n",
       "      <td>3</td>\n",
       "      <td>278.70</td>\n",
       "      <td>2</td>\n",
       "      <td>1</td>\n",
       "      <td>8</td>\n",
       "      <td>16</td>\n",
       "      <td>0</td>\n",
       "      <td>2</td>\n",
       "      <td>1</td>\n",
       "      <td>23.070</td>\n",
       "      <td>1381</td>\n",
       "      <td>squad-fpp</td>\n",
       "      <td>29</td>\n",
       "      <td>27</td>\n",
       "      <td>1479</td>\n",
       "      <td>3</td>\n",
       "      <td>0.0</td>\n",
       "      <td>0</td>\n",
       "      <td>0.0</td>\n",
       "      <td>0</td>\n",
       "      <td>0</td>\n",
       "      <td>3591.0</td>\n",
       "      <td>10</td>\n",
       "      <td>0</td>\n",
       "      <td>0.8571</td>\n",
       "    </tr>\n",
       "    <tr>\n",
       "      <th>3</th>\n",
       "      <td>f589dd03b60bf2</td>\n",
       "      <td>804ab5e5585558</td>\n",
       "      <td>c4a5676dc91604</td>\n",
       "      <td>0</td>\n",
       "      <td>0</td>\n",
       "      <td>191.90</td>\n",
       "      <td>1</td>\n",
       "      <td>0</td>\n",
       "      <td>0</td>\n",
       "      <td>31</td>\n",
       "      <td>0</td>\n",
       "      <td>1</td>\n",
       "      <td>1</td>\n",
       "      <td>24.890</td>\n",
       "      <td>1708</td>\n",
       "      <td>squad</td>\n",
       "      <td>27</td>\n",
       "      <td>25</td>\n",
       "      <td>1500</td>\n",
       "      <td>0</td>\n",
       "      <td>0.0</td>\n",
       "      <td>0</td>\n",
       "      <td>0.0</td>\n",
       "      <td>0</td>\n",
       "      <td>0</td>\n",
       "      <td>332.7</td>\n",
       "      <td>3</td>\n",
       "      <td>0</td>\n",
       "      <td>0.3462</td>\n",
       "    </tr>\n",
       "    <tr>\n",
       "      <th>4</th>\n",
       "      <td>c23c4cc5b78b35</td>\n",
       "      <td>b3e2cd169ed920</td>\n",
       "      <td>cd595700a01bfa</td>\n",
       "      <td>0</td>\n",
       "      <td>0</td>\n",
       "      <td>100.00</td>\n",
       "      <td>1</td>\n",
       "      <td>0</td>\n",
       "      <td>0</td>\n",
       "      <td>87</td>\n",
       "      <td>1332</td>\n",
       "      <td>0</td>\n",
       "      <td>0</td>\n",
       "      <td>0.000</td>\n",
       "      <td>1807</td>\n",
       "      <td>squad-fpp</td>\n",
       "      <td>30</td>\n",
       "      <td>30</td>\n",
       "      <td>-1</td>\n",
       "      <td>0</td>\n",
       "      <td>0.0</td>\n",
       "      <td>0</td>\n",
       "      <td>0.0</td>\n",
       "      <td>0</td>\n",
       "      <td>0</td>\n",
       "      <td>252.7</td>\n",
       "      <td>3</td>\n",
       "      <td>1557</td>\n",
       "      <td>0.0690</td>\n",
       "    </tr>\n",
       "    <tr>\n",
       "      <th>5</th>\n",
       "      <td>fd034582dd4d2e</td>\n",
       "      <td>9b8930aeee086a</td>\n",
       "      <td>6f6e52b15ddf21</td>\n",
       "      <td>0</td>\n",
       "      <td>1</td>\n",
       "      <td>200.00</td>\n",
       "      <td>2</td>\n",
       "      <td>0</td>\n",
       "      <td>1</td>\n",
       "      <td>73</td>\n",
       "      <td>0</td>\n",
       "      <td>0</td>\n",
       "      <td>0</td>\n",
       "      <td>0.000</td>\n",
       "      <td>1362</td>\n",
       "      <td>squad-fpp</td>\n",
       "      <td>26</td>\n",
       "      <td>24</td>\n",
       "      <td>1769</td>\n",
       "      <td>0</td>\n",
       "      <td>0.0</td>\n",
       "      <td>0</td>\n",
       "      <td>0.0</td>\n",
       "      <td>0</td>\n",
       "      <td>0</td>\n",
       "      <td>221.8</td>\n",
       "      <td>2</td>\n",
       "      <td>0</td>\n",
       "      <td>0.2000</td>\n",
       "    </tr>\n",
       "    <tr>\n",
       "      <th>6</th>\n",
       "      <td>c60b5633f4dcc8</td>\n",
       "      <td>7c0f817f6627c7</td>\n",
       "      <td>3232c1e0fec04b</td>\n",
       "      <td>0</td>\n",
       "      <td>3</td>\n",
       "      <td>638.20</td>\n",
       "      <td>4</td>\n",
       "      <td>1</td>\n",
       "      <td>1</td>\n",
       "      <td>1</td>\n",
       "      <td>0</td>\n",
       "      <td>8</td>\n",
       "      <td>2</td>\n",
       "      <td>158.700</td>\n",
       "      <td>1369</td>\n",
       "      <td>duo-fpp</td>\n",
       "      <td>46</td>\n",
       "      <td>46</td>\n",
       "      <td>1747</td>\n",
       "      <td>1</td>\n",
       "      <td>0.0</td>\n",
       "      <td>0</td>\n",
       "      <td>0.0</td>\n",
       "      <td>0</td>\n",
       "      <td>0</td>\n",
       "      <td>3350.0</td>\n",
       "      <td>5</td>\n",
       "      <td>0</td>\n",
       "      <td>0.9333</td>\n",
       "    </tr>\n",
       "    <tr>\n",
       "      <th>7</th>\n",
       "      <td>f0ba8246b6980f</td>\n",
       "      <td>7318b5204462cb</td>\n",
       "      <td>112e9711f86001</td>\n",
       "      <td>0</td>\n",
       "      <td>0</td>\n",
       "      <td>27.94</td>\n",
       "      <td>0</td>\n",
       "      <td>0</td>\n",
       "      <td>0</td>\n",
       "      <td>66</td>\n",
       "      <td>0</td>\n",
       "      <td>0</td>\n",
       "      <td>0</td>\n",
       "      <td>0.000</td>\n",
       "      <td>1349</td>\n",
       "      <td>duo-fpp</td>\n",
       "      <td>48</td>\n",
       "      <td>46</td>\n",
       "      <td>1502</td>\n",
       "      <td>0</td>\n",
       "      <td>0.0</td>\n",
       "      <td>0</td>\n",
       "      <td>0.0</td>\n",
       "      <td>0</td>\n",
       "      <td>0</td>\n",
       "      <td>417.6</td>\n",
       "      <td>4</td>\n",
       "      <td>0</td>\n",
       "      <td>0.3617</td>\n",
       "    </tr>\n",
       "    <tr>\n",
       "      <th>8</th>\n",
       "      <td>79c5d5eda1c72e</td>\n",
       "      <td>a85b81198dfc06</td>\n",
       "      <td>ef5fc25e28ffb1</td>\n",
       "      <td>1</td>\n",
       "      <td>4</td>\n",
       "      <td>275.80</td>\n",
       "      <td>3</td>\n",
       "      <td>0</td>\n",
       "      <td>4</td>\n",
       "      <td>10</td>\n",
       "      <td>0</td>\n",
       "      <td>4</td>\n",
       "      <td>2</td>\n",
       "      <td>77.420</td>\n",
       "      <td>1387</td>\n",
       "      <td>squad</td>\n",
       "      <td>28</td>\n",
       "      <td>27</td>\n",
       "      <td>1500</td>\n",
       "      <td>1</td>\n",
       "      <td>1415.0</td>\n",
       "      <td>0</td>\n",
       "      <td>0.0</td>\n",
       "      <td>0</td>\n",
       "      <td>0</td>\n",
       "      <td>1959.0</td>\n",
       "      <td>4</td>\n",
       "      <td>0</td>\n",
       "      <td>0.6296</td>\n",
       "    </tr>\n",
       "    <tr>\n",
       "      <th>9</th>\n",
       "      <td>94834a28e52abd</td>\n",
       "      <td>bc513cde35fa54</td>\n",
       "      <td>f36a754a9b88f7</td>\n",
       "      <td>1</td>\n",
       "      <td>1</td>\n",
       "      <td>530.40</td>\n",
       "      <td>4</td>\n",
       "      <td>0</td>\n",
       "      <td>8</td>\n",
       "      <td>5</td>\n",
       "      <td>1502</td>\n",
       "      <td>5</td>\n",
       "      <td>2</td>\n",
       "      <td>33.670</td>\n",
       "      <td>1377</td>\n",
       "      <td>squad-fpp</td>\n",
       "      <td>27</td>\n",
       "      <td>25</td>\n",
       "      <td>-1</td>\n",
       "      <td>1</td>\n",
       "      <td>439.5</td>\n",
       "      <td>0</td>\n",
       "      <td>0.0</td>\n",
       "      <td>0</td>\n",
       "      <td>0</td>\n",
       "      <td>2794.0</td>\n",
       "      <td>5</td>\n",
       "      <td>1527</td>\n",
       "      <td>0.8462</td>\n",
       "    </tr>\n",
       "  </tbody>\n",
       "</table>\n",
       "</div>"
      ],
      "text/plain": [
       "               Id         groupId         matchId  assists  boosts  \\\n",
       "0  2f262dd9795e60  78437bcd91d40e  d5db3a49eb2955        0       0   \n",
       "1  a32847cf5bf34b  85b7ce5a12e10b  65223f05c7fdb4        0       0   \n",
       "2  1b1900a9990396  edf80d6523380a  1cadec4534f30a        0       3   \n",
       "3  f589dd03b60bf2  804ab5e5585558  c4a5676dc91604        0       0   \n",
       "4  c23c4cc5b78b35  b3e2cd169ed920  cd595700a01bfa        0       0   \n",
       "5  fd034582dd4d2e  9b8930aeee086a  6f6e52b15ddf21        0       1   \n",
       "6  c60b5633f4dcc8  7c0f817f6627c7  3232c1e0fec04b        0       3   \n",
       "7  f0ba8246b6980f  7318b5204462cb  112e9711f86001        0       0   \n",
       "8  79c5d5eda1c72e  a85b81198dfc06  ef5fc25e28ffb1        1       4   \n",
       "9  94834a28e52abd  bc513cde35fa54  f36a754a9b88f7        1       1   \n",
       "\n",
       "   damageDealt  DBNOs  headshotKills  heals  killPlace  killPoints  kills  \\\n",
       "0         0.00      0              0      0         92        1126      0   \n",
       "1       163.20      1              1      0         42        1309      1   \n",
       "2       278.70      2              1      8         16           0      2   \n",
       "3       191.90      1              0      0         31           0      1   \n",
       "4       100.00      1              0      0         87        1332      0   \n",
       "5       200.00      2              0      1         73           0      0   \n",
       "6       638.20      4              1      1          1           0      8   \n",
       "7        27.94      0              0      0         66           0      0   \n",
       "8       275.80      3              0      4         10           0      4   \n",
       "9       530.40      4              0      8          5        1502      5   \n",
       "\n",
       "   killStreaks  longestKill  matchDuration  matchType  maxPlace  numGroups  \\\n",
       "0            0        0.000           1376  squad-fpp        29         28   \n",
       "1            1        6.589           1370  squad-fpp        28         28   \n",
       "2            1       23.070           1381  squad-fpp        29         27   \n",
       "3            1       24.890           1708      squad        27         25   \n",
       "4            0        0.000           1807  squad-fpp        30         30   \n",
       "5            0        0.000           1362  squad-fpp        26         24   \n",
       "6            2      158.700           1369    duo-fpp        46         46   \n",
       "7            0        0.000           1349    duo-fpp        48         46   \n",
       "8            2       77.420           1387      squad        28         27   \n",
       "9            2       33.670           1377  squad-fpp        27         25   \n",
       "\n",
       "   rankPoints  revives  rideDistance  roadKills  swimDistance  teamKills  \\\n",
       "0          -1        0           0.0          0           0.0          0   \n",
       "1          -1        0           0.0          0           0.0          0   \n",
       "2        1479        3           0.0          0           0.0          0   \n",
       "3        1500        0           0.0          0           0.0          0   \n",
       "4          -1        0           0.0          0           0.0          0   \n",
       "5        1769        0           0.0          0           0.0          0   \n",
       "6        1747        1           0.0          0           0.0          0   \n",
       "7        1502        0           0.0          0           0.0          0   \n",
       "8        1500        1        1415.0          0           0.0          0   \n",
       "9          -1        1         439.5          0           0.0          0   \n",
       "\n",
       "   vehicleDestroys  walkDistance  weaponsAcquired  winPoints  winPlacePerc  \n",
       "0                0           0.0                0       1470        0.0000  \n",
       "1                0         132.7                2       1531        0.2222  \n",
       "2                0        3591.0               10          0        0.8571  \n",
       "3                0         332.7                3          0        0.3462  \n",
       "4                0         252.7                3       1557        0.0690  \n",
       "5                0         221.8                2          0        0.2000  \n",
       "6                0        3350.0                5          0        0.9333  \n",
       "7                0         417.6                4          0        0.3617  \n",
       "8                0        1959.0                4          0        0.6296  \n",
       "9                0        2794.0                5       1527        0.8462  "
      ]
     },
     "execution_count": 2,
     "metadata": {},
     "output_type": "execute_result"
    }
   ],
   "source": [
    "pubg = pd.read_csv('pubg - Dr. Darshan Ingle.csv')\n",
    "pd.set_option('display.max_columns',100)\n",
    "pubg.head(10)"
   ]
  },
  {
   "cell_type": "markdown",
   "metadata": {},
   "source": [
    "### Disclaimer\n",
    "All of the Theory, Assumptions, and Decision, and note are based on this dataset or according to the dataset is given(<b>'pubg - Dr. Darshan Ingle.csv'</b>). I am personally not making any assumptions or notes when I will write facts or inside for this dataset."
   ]
  },
  {
   "cell_type": "markdown",
   "metadata": {},
   "source": [
    "# 2. Check the datatype of all the columns."
   ]
  },
  {
   "cell_type": "code",
   "execution_count": 3,
   "metadata": {},
   "outputs": [
    {
     "name": "stdout",
     "output_type": "stream",
     "text": [
      "<class 'pandas.core.frame.DataFrame'>\n",
      "RangeIndex: 10000 entries, 0 to 9999\n",
      "Data columns (total 29 columns):\n",
      " #   Column           Non-Null Count  Dtype  \n",
      "---  ------           --------------  -----  \n",
      " 0   Id               10000 non-null  object \n",
      " 1   groupId          10000 non-null  object \n",
      " 2   matchId          10000 non-null  object \n",
      " 3   assists          10000 non-null  int64  \n",
      " 4   boosts           10000 non-null  int64  \n",
      " 5   damageDealt      10000 non-null  float64\n",
      " 6   DBNOs            10000 non-null  int64  \n",
      " 7   headshotKills    10000 non-null  int64  \n",
      " 8   heals            10000 non-null  int64  \n",
      " 9   killPlace        10000 non-null  int64  \n",
      " 10  killPoints       10000 non-null  int64  \n",
      " 11  kills            10000 non-null  int64  \n",
      " 12  killStreaks      10000 non-null  int64  \n",
      " 13  longestKill      10000 non-null  float64\n",
      " 14  matchDuration    10000 non-null  int64  \n",
      " 15  matchType        10000 non-null  object \n",
      " 16  maxPlace         10000 non-null  int64  \n",
      " 17  numGroups        10000 non-null  int64  \n",
      " 18  rankPoints       10000 non-null  int64  \n",
      " 19  revives          10000 non-null  int64  \n",
      " 20  rideDistance     10000 non-null  float64\n",
      " 21  roadKills        10000 non-null  int64  \n",
      " 22  swimDistance     10000 non-null  float64\n",
      " 23  teamKills        10000 non-null  int64  \n",
      " 24  vehicleDestroys  10000 non-null  int64  \n",
      " 25  walkDistance     10000 non-null  float64\n",
      " 26  weaponsAcquired  10000 non-null  int64  \n",
      " 27  winPoints        10000 non-null  int64  \n",
      " 28  winPlacePerc     10000 non-null  float64\n",
      "dtypes: float64(6), int64(19), object(4)\n",
      "memory usage: 2.2+ MB\n"
     ]
    }
   ],
   "source": [
    "pubg.info()"
   ]
  },
  {
   "cell_type": "markdown",
   "metadata": {},
   "source": [
    "# 3. Find the summary of all the numerical columns and write your findings about it"
   ]
  },
  {
   "cell_type": "code",
   "execution_count": 4,
   "metadata": {},
   "outputs": [
    {
     "data": {
      "text/html": [
       "<div>\n",
       "<style scoped>\n",
       "    .dataframe tbody tr th:only-of-type {\n",
       "        vertical-align: middle;\n",
       "    }\n",
       "\n",
       "    .dataframe tbody tr th {\n",
       "        vertical-align: top;\n",
       "    }\n",
       "\n",
       "    .dataframe thead th {\n",
       "        text-align: right;\n",
       "    }\n",
       "</style>\n",
       "<table border=\"1\" class=\"dataframe\">\n",
       "  <thead>\n",
       "    <tr style=\"text-align: right;\">\n",
       "      <th></th>\n",
       "      <th>assists</th>\n",
       "      <th>boosts</th>\n",
       "      <th>damageDealt</th>\n",
       "      <th>DBNOs</th>\n",
       "      <th>headshotKills</th>\n",
       "      <th>heals</th>\n",
       "      <th>killPlace</th>\n",
       "      <th>killPoints</th>\n",
       "      <th>kills</th>\n",
       "      <th>killStreaks</th>\n",
       "      <th>longestKill</th>\n",
       "      <th>matchDuration</th>\n",
       "      <th>maxPlace</th>\n",
       "      <th>numGroups</th>\n",
       "      <th>rankPoints</th>\n",
       "      <th>revives</th>\n",
       "      <th>rideDistance</th>\n",
       "      <th>roadKills</th>\n",
       "      <th>swimDistance</th>\n",
       "      <th>teamKills</th>\n",
       "      <th>vehicleDestroys</th>\n",
       "      <th>walkDistance</th>\n",
       "      <th>weaponsAcquired</th>\n",
       "      <th>winPoints</th>\n",
       "      <th>winPlacePerc</th>\n",
       "    </tr>\n",
       "  </thead>\n",
       "  <tbody>\n",
       "    <tr>\n",
       "      <th>count</th>\n",
       "      <td>10000.000000</td>\n",
       "      <td>10000.000000</td>\n",
       "      <td>10000.000000</td>\n",
       "      <td>10000.00000</td>\n",
       "      <td>10000.000000</td>\n",
       "      <td>10000.000000</td>\n",
       "      <td>10000.000000</td>\n",
       "      <td>10000.000000</td>\n",
       "      <td>10000.000000</td>\n",
       "      <td>10000.000000</td>\n",
       "      <td>10000.000000</td>\n",
       "      <td>10000.000000</td>\n",
       "      <td>10000.000000</td>\n",
       "      <td>10000.000000</td>\n",
       "      <td>10000.000000</td>\n",
       "      <td>10000.000000</td>\n",
       "      <td>10000.000000</td>\n",
       "      <td>10000.000000</td>\n",
       "      <td>10000.000000</td>\n",
       "      <td>10000.000000</td>\n",
       "      <td>10000.000000</td>\n",
       "      <td>10000.000000</td>\n",
       "      <td>10000.00000</td>\n",
       "      <td>10000.0000</td>\n",
       "      <td>10000.000000</td>\n",
       "    </tr>\n",
       "    <tr>\n",
       "      <th>mean</th>\n",
       "      <td>0.234600</td>\n",
       "      <td>1.088500</td>\n",
       "      <td>129.211264</td>\n",
       "      <td>0.64400</td>\n",
       "      <td>0.221700</td>\n",
       "      <td>1.354000</td>\n",
       "      <td>47.663100</td>\n",
       "      <td>506.970200</td>\n",
       "      <td>0.913400</td>\n",
       "      <td>0.543800</td>\n",
       "      <td>23.272333</td>\n",
       "      <td>1575.398000</td>\n",
       "      <td>44.655500</td>\n",
       "      <td>43.151300</td>\n",
       "      <td>889.699600</td>\n",
       "      <td>0.160200</td>\n",
       "      <td>600.693584</td>\n",
       "      <td>0.004200</td>\n",
       "      <td>4.385917</td>\n",
       "      <td>0.024400</td>\n",
       "      <td>0.007700</td>\n",
       "      <td>1130.008410</td>\n",
       "      <td>3.63590</td>\n",
       "      <td>609.3440</td>\n",
       "      <td>0.469926</td>\n",
       "    </tr>\n",
       "    <tr>\n",
       "      <th>std</th>\n",
       "      <td>0.575149</td>\n",
       "      <td>1.703279</td>\n",
       "      <td>167.193945</td>\n",
       "      <td>1.09562</td>\n",
       "      <td>0.577046</td>\n",
       "      <td>2.629102</td>\n",
       "      <td>27.424146</td>\n",
       "      <td>627.297959</td>\n",
       "      <td>1.524117</td>\n",
       "      <td>0.701948</td>\n",
       "      <td>50.536262</td>\n",
       "      <td>258.963515</td>\n",
       "      <td>23.800859</td>\n",
       "      <td>23.272567</td>\n",
       "      <td>738.535034</td>\n",
       "      <td>0.454045</td>\n",
       "      <td>1524.915601</td>\n",
       "      <td>0.074719</td>\n",
       "      <td>30.889620</td>\n",
       "      <td>0.171486</td>\n",
       "      <td>0.089674</td>\n",
       "      <td>1168.597983</td>\n",
       "      <td>2.42209</td>\n",
       "      <td>739.7924</td>\n",
       "      <td>0.304508</td>\n",
       "    </tr>\n",
       "    <tr>\n",
       "      <th>min</th>\n",
       "      <td>0.000000</td>\n",
       "      <td>0.000000</td>\n",
       "      <td>0.000000</td>\n",
       "      <td>0.00000</td>\n",
       "      <td>0.000000</td>\n",
       "      <td>0.000000</td>\n",
       "      <td>1.000000</td>\n",
       "      <td>0.000000</td>\n",
       "      <td>0.000000</td>\n",
       "      <td>0.000000</td>\n",
       "      <td>0.000000</td>\n",
       "      <td>464.000000</td>\n",
       "      <td>2.000000</td>\n",
       "      <td>2.000000</td>\n",
       "      <td>-1.000000</td>\n",
       "      <td>0.000000</td>\n",
       "      <td>0.000000</td>\n",
       "      <td>0.000000</td>\n",
       "      <td>0.000000</td>\n",
       "      <td>0.000000</td>\n",
       "      <td>0.000000</td>\n",
       "      <td>0.000000</td>\n",
       "      <td>0.00000</td>\n",
       "      <td>0.0000</td>\n",
       "      <td>0.000000</td>\n",
       "    </tr>\n",
       "    <tr>\n",
       "      <th>25%</th>\n",
       "      <td>0.000000</td>\n",
       "      <td>0.000000</td>\n",
       "      <td>0.000000</td>\n",
       "      <td>0.00000</td>\n",
       "      <td>0.000000</td>\n",
       "      <td>0.000000</td>\n",
       "      <td>24.000000</td>\n",
       "      <td>0.000000</td>\n",
       "      <td>0.000000</td>\n",
       "      <td>0.000000</td>\n",
       "      <td>0.000000</td>\n",
       "      <td>1366.000000</td>\n",
       "      <td>28.000000</td>\n",
       "      <td>27.000000</td>\n",
       "      <td>-1.000000</td>\n",
       "      <td>0.000000</td>\n",
       "      <td>0.000000</td>\n",
       "      <td>0.000000</td>\n",
       "      <td>0.000000</td>\n",
       "      <td>0.000000</td>\n",
       "      <td>0.000000</td>\n",
       "      <td>151.575000</td>\n",
       "      <td>2.00000</td>\n",
       "      <td>0.0000</td>\n",
       "      <td>0.200000</td>\n",
       "    </tr>\n",
       "    <tr>\n",
       "      <th>50%</th>\n",
       "      <td>0.000000</td>\n",
       "      <td>0.000000</td>\n",
       "      <td>83.805000</td>\n",
       "      <td>0.00000</td>\n",
       "      <td>0.000000</td>\n",
       "      <td>0.000000</td>\n",
       "      <td>48.000000</td>\n",
       "      <td>0.000000</td>\n",
       "      <td>0.000000</td>\n",
       "      <td>0.000000</td>\n",
       "      <td>0.000000</td>\n",
       "      <td>1431.500000</td>\n",
       "      <td>30.000000</td>\n",
       "      <td>30.000000</td>\n",
       "      <td>1444.000000</td>\n",
       "      <td>0.000000</td>\n",
       "      <td>0.000000</td>\n",
       "      <td>0.000000</td>\n",
       "      <td>0.000000</td>\n",
       "      <td>0.000000</td>\n",
       "      <td>0.000000</td>\n",
       "      <td>650.350000</td>\n",
       "      <td>3.00000</td>\n",
       "      <td>0.0000</td>\n",
       "      <td>0.458300</td>\n",
       "    </tr>\n",
       "    <tr>\n",
       "      <th>75%</th>\n",
       "      <td>0.000000</td>\n",
       "      <td>2.000000</td>\n",
       "      <td>185.325000</td>\n",
       "      <td>1.00000</td>\n",
       "      <td>0.000000</td>\n",
       "      <td>2.000000</td>\n",
       "      <td>71.000000</td>\n",
       "      <td>1169.000000</td>\n",
       "      <td>1.000000</td>\n",
       "      <td>1.000000</td>\n",
       "      <td>22.345000</td>\n",
       "      <td>1849.250000</td>\n",
       "      <td>49.000000</td>\n",
       "      <td>47.000000</td>\n",
       "      <td>1500.000000</td>\n",
       "      <td>0.000000</td>\n",
       "      <td>0.000575</td>\n",
       "      <td>0.000000</td>\n",
       "      <td>0.000000</td>\n",
       "      <td>0.000000</td>\n",
       "      <td>0.000000</td>\n",
       "      <td>1923.250000</td>\n",
       "      <td>5.00000</td>\n",
       "      <td>1495.0000</td>\n",
       "      <td>0.735100</td>\n",
       "    </tr>\n",
       "    <tr>\n",
       "      <th>max</th>\n",
       "      <td>7.000000</td>\n",
       "      <td>18.000000</td>\n",
       "      <td>3469.000000</td>\n",
       "      <td>11.00000</td>\n",
       "      <td>14.000000</td>\n",
       "      <td>31.000000</td>\n",
       "      <td>100.000000</td>\n",
       "      <td>1926.000000</td>\n",
       "      <td>35.000000</td>\n",
       "      <td>4.000000</td>\n",
       "      <td>538.600000</td>\n",
       "      <td>2202.000000</td>\n",
       "      <td>100.000000</td>\n",
       "      <td>100.000000</td>\n",
       "      <td>2835.000000</td>\n",
       "      <td>5.000000</td>\n",
       "      <td>28780.000000</td>\n",
       "      <td>3.000000</td>\n",
       "      <td>971.200000</td>\n",
       "      <td>3.000000</td>\n",
       "      <td>2.000000</td>\n",
       "      <td>10490.000000</td>\n",
       "      <td>41.00000</td>\n",
       "      <td>1863.0000</td>\n",
       "      <td>1.000000</td>\n",
       "    </tr>\n",
       "  </tbody>\n",
       "</table>\n",
       "</div>"
      ],
      "text/plain": [
       "            assists        boosts   damageDealt        DBNOs  headshotKills  \\\n",
       "count  10000.000000  10000.000000  10000.000000  10000.00000   10000.000000   \n",
       "mean       0.234600      1.088500    129.211264      0.64400       0.221700   \n",
       "std        0.575149      1.703279    167.193945      1.09562       0.577046   \n",
       "min        0.000000      0.000000      0.000000      0.00000       0.000000   \n",
       "25%        0.000000      0.000000      0.000000      0.00000       0.000000   \n",
       "50%        0.000000      0.000000     83.805000      0.00000       0.000000   \n",
       "75%        0.000000      2.000000    185.325000      1.00000       0.000000   \n",
       "max        7.000000     18.000000   3469.000000     11.00000      14.000000   \n",
       "\n",
       "              heals     killPlace    killPoints         kills   killStreaks  \\\n",
       "count  10000.000000  10000.000000  10000.000000  10000.000000  10000.000000   \n",
       "mean       1.354000     47.663100    506.970200      0.913400      0.543800   \n",
       "std        2.629102     27.424146    627.297959      1.524117      0.701948   \n",
       "min        0.000000      1.000000      0.000000      0.000000      0.000000   \n",
       "25%        0.000000     24.000000      0.000000      0.000000      0.000000   \n",
       "50%        0.000000     48.000000      0.000000      0.000000      0.000000   \n",
       "75%        2.000000     71.000000   1169.000000      1.000000      1.000000   \n",
       "max       31.000000    100.000000   1926.000000     35.000000      4.000000   \n",
       "\n",
       "        longestKill  matchDuration      maxPlace     numGroups    rankPoints  \\\n",
       "count  10000.000000   10000.000000  10000.000000  10000.000000  10000.000000   \n",
       "mean      23.272333    1575.398000     44.655500     43.151300    889.699600   \n",
       "std       50.536262     258.963515     23.800859     23.272567    738.535034   \n",
       "min        0.000000     464.000000      2.000000      2.000000     -1.000000   \n",
       "25%        0.000000    1366.000000     28.000000     27.000000     -1.000000   \n",
       "50%        0.000000    1431.500000     30.000000     30.000000   1444.000000   \n",
       "75%       22.345000    1849.250000     49.000000     47.000000   1500.000000   \n",
       "max      538.600000    2202.000000    100.000000    100.000000   2835.000000   \n",
       "\n",
       "            revives  rideDistance     roadKills  swimDistance     teamKills  \\\n",
       "count  10000.000000  10000.000000  10000.000000  10000.000000  10000.000000   \n",
       "mean       0.160200    600.693584      0.004200      4.385917      0.024400   \n",
       "std        0.454045   1524.915601      0.074719     30.889620      0.171486   \n",
       "min        0.000000      0.000000      0.000000      0.000000      0.000000   \n",
       "25%        0.000000      0.000000      0.000000      0.000000      0.000000   \n",
       "50%        0.000000      0.000000      0.000000      0.000000      0.000000   \n",
       "75%        0.000000      0.000575      0.000000      0.000000      0.000000   \n",
       "max        5.000000  28780.000000      3.000000    971.200000      3.000000   \n",
       "\n",
       "       vehicleDestroys  walkDistance  weaponsAcquired   winPoints  \\\n",
       "count     10000.000000  10000.000000      10000.00000  10000.0000   \n",
       "mean          0.007700   1130.008410          3.63590    609.3440   \n",
       "std           0.089674   1168.597983          2.42209    739.7924   \n",
       "min           0.000000      0.000000          0.00000      0.0000   \n",
       "25%           0.000000    151.575000          2.00000      0.0000   \n",
       "50%           0.000000    650.350000          3.00000      0.0000   \n",
       "75%           0.000000   1923.250000          5.00000   1495.0000   \n",
       "max           2.000000  10490.000000         41.00000   1863.0000   \n",
       "\n",
       "       winPlacePerc  \n",
       "count  10000.000000  \n",
       "mean       0.469926  \n",
       "std        0.304508  \n",
       "min        0.000000  \n",
       "25%        0.200000  \n",
       "50%        0.458300  \n",
       "75%        0.735100  \n",
       "max        1.000000  "
      ]
     },
     "execution_count": 4,
     "metadata": {},
     "output_type": "execute_result"
    }
   ],
   "source": [
    "pubg.describe()"
   ]
  },
  {
   "cell_type": "markdown",
   "metadata": {},
   "source": [
    "<b>assists</b> - It's look like most(almost 75%) of the player did not assist their teammates. Most of them got kills by their own.\n",
    "\n",
    "<b>boosts</b> - Almost 75% player use only 2 boost item while playing and only few player use(mabey 1 or 2) 18 boost item in a game.\n",
    "\n",
    "<b>damageDealt</b> - 25% player are very good as they did not take any damage. But 75% player receved 185 damage while average damage is 129.\n",
    "\n",
    "<b>DBNOs</b> - 50% player did not knocked any player. but according to the dataset highest 11 player knocked by one(or more) player.\n",
    "\n",
    "<b>headshotKills</b> - Almost 75% player did not abale to shoot on the head, looks like they are not familiar to the main strategy. or they are not good player as their aim is not that good.But their is one(or more than one) pro player who kill 14 player by headshot.\n",
    "\n",
    "<b>heals</b> - 50% player did not use any heal item. or they were get killed on their first combat. but again one(or more than one) player use 31(max size in the dataset) heals items in the game. mabey it is that pro player but for a assured answer further work is required.\n",
    "\n",
    "<b>killPlace</b> - As this data consist of many matches result so I am not considering the  killPlace column.\n",
    "\n",
    "<b>killPoints</b> - 50% player did not have any kill points.\n",
    "\n",
    "<b>kills</b> - 75% player kills is just 1. but there is max killsm which is 35 player killed by one(or more than one) player. from here we can assume that it is that player who use 31 heals item. but there is no evidence upon it.\n",
    "\n",
    "<b>killStreaks</b> - 75% player are able to kill 1 enemy player. and max kills is 4 by one(or more than one) player. If i use \"value_count()\" method on this columns, that will give more deep result.\n",
    "\n",
    "<b>longestKill</b> - As written is the descriptions of this dataset it can be misleading information as one player knocked one enemy and drive away from him by the time he dies. we know their is certain time from knockout and dies . in between his teammate can revive him. Although the average longest kills is 23(probably meter).\n",
    "\n",
    "<b>matchDuration</b> It can be usefull infromation for know that how much time a single match take. as far the dataset tell us Average time of a match played by a player 1575.39sec(or 26 min). Max duration for a player 2202sec(36min) and Min time 464sec(8min).\n",
    "\n",
    "<b>revives</b> - more than 75% player did not revive his teammates. but there is max number 5, means one(or more) player revive 5 times his team mates.\n",
    "\n",
    "<b>rideDistance</b> - Here is also same, more than 75% player did not travel with any vehicles. But the max ride distance is 28780m ride by one player or a team. they was probably exploring all over the map.\n",
    "\n",
    "<b>roadKills</b> - most of the player did not kill any enemy while driving. but there is one(or more than one) player who kill 3 player while driving.\n",
    "\n",
    "<b>swimDistance</b> - Here almost all player or technically more than 75% player did not swim. It make sense, we probably don't swim that much while playing. but there is max number 971m swim distance . I really dont know what was he doing all of the time in water and what he was upto that he swim 971m.\n",
    "\n",
    "<b>teamKills</b> -  Here is also more than 75% player have 0 records. It is quit normal. we usually don't kill our team mate. so thisinformation quit normal. but also there are some people who kills his own team mate for fun or it may happend by accidentally. Here is max no 3, means one player kills his full squad. \n",
    "\n",
    "<b>vehicleDestroys</b> - Chance of destroying a veichle is only in combat and if some enemy spot us while we driving. only in this two case there is normal o destroy a vehicle. As i found this dataset player are not that good player(neglecting few pro player) so thir game was not that intersitng. almost all player did not destroy any vehicle. but 2 vehicle is destroy by one(or more than one) player.\n",
    "\n",
    "<b>walkDistance</b> - This very general information. almost all player who are playing have to walk in the map to play. but here minmum walking distane is 0, means they did not walk a single meter. however this is not possible. these player did not land on the map, they quit the match after joining lobby or they got away from keyboard(afk) when match start.the average distance walk by a player is 1130m and max is 10490m.\n",
    "\n",
    "\n",
    "\n"
   ]
  },
  {
   "cell_type": "markdown",
   "metadata": {},
   "source": [
    "<b>weaponsAcquired<b/> - From the dataset we can see the average number of wwapon acquired is 3. so this is quit normal according to the match most of the player get 3 weapon 1pistol and two AR or 1AR and 1SR. so this is quit normal. but the interesting fact is one(or more than one) player acquired 41 weapon. not all at once as we only can hold 3 weapon. but he was frequently changing his weapon."
   ]
  },
  {
   "cell_type": "markdown",
   "metadata": {},
   "source": [
    "# 4. The average person kills how many players?"
   ]
  },
  {
   "cell_type": "code",
   "execution_count": 6,
   "metadata": {},
   "outputs": [
    {
     "data": {
      "text/plain": [
       "10000"
      ]
     },
     "execution_count": 6,
     "metadata": {},
     "output_type": "execute_result"
    }
   ],
   "source": [
    "pubg['Id'].nunique()"
   ]
  },
  {
   "cell_type": "code",
   "execution_count": 5,
   "metadata": {},
   "outputs": [
    {
     "data": {
      "text/plain": [
       "0.9134"
      ]
     },
     "execution_count": 5,
     "metadata": {},
     "output_type": "execute_result"
    }
   ],
   "source": [
    "pubg['kills'].mean()"
   ]
  },
  {
   "cell_type": "markdown",
   "metadata": {},
   "source": [
    "there ar 10000 unique player. The nmber is close to 1 . so we can tell average kills is 1 by average person."
   ]
  },
  {
   "cell_type": "markdown",
   "metadata": {},
   "source": [
    "# 5. 99% of people have how many kills?"
   ]
  },
  {
   "cell_type": "markdown",
   "metadata": {},
   "source": [
    "99% of people means 99% of this dataset has how many kill? as we know every row is a unique player."
   ]
  },
  {
   "cell_type": "code",
   "execution_count": 8,
   "metadata": {},
   "outputs": [
    {
     "data": {
      "text/plain": [
       "7.0"
      ]
     },
     "execution_count": 8,
     "metadata": {},
     "output_type": "execute_result"
    }
   ],
   "source": [
    "pubg['kills'].quantile(0.99)\n"
   ]
  },
  {
   "cell_type": "markdown",
   "metadata": {},
   "source": [
    "# 6. The most kills ever recorded are how much?"
   ]
  },
  {
   "cell_type": "code",
   "execution_count": 9,
   "metadata": {},
   "outputs": [
    {
     "data": {
      "text/plain": [
       "35"
      ]
     },
     "execution_count": 9,
     "metadata": {},
     "output_type": "execute_result"
    }
   ],
   "source": [
    "pubg['kills'].max()"
   ]
  },
  {
   "cell_type": "markdown",
   "metadata": {},
   "source": [
    "# 7. Print all the columns of the dataframe."
   ]
  },
  {
   "cell_type": "code",
   "execution_count": 10,
   "metadata": {},
   "outputs": [
    {
     "data": {
      "text/plain": [
       "Index(['Id', 'groupId', 'matchId', 'assists', 'boosts', 'damageDealt', 'DBNOs',\n",
       "       'headshotKills', 'heals', 'killPlace', 'killPoints', 'kills',\n",
       "       'killStreaks', 'longestKill', 'matchDuration', 'matchType', 'maxPlace',\n",
       "       'numGroups', 'rankPoints', 'revives', 'rideDistance', 'roadKills',\n",
       "       'swimDistance', 'teamKills', 'vehicleDestroys', 'walkDistance',\n",
       "       'weaponsAcquired', 'winPoints', 'winPlacePerc'],\n",
       "      dtype='object')"
      ]
     },
     "execution_count": 10,
     "metadata": {},
     "output_type": "execute_result"
    }
   ],
   "source": [
    "pubg.columns"
   ]
  },
  {
   "cell_type": "markdown",
   "metadata": {},
   "source": [
    "# 8. Comment on distribution of the match's duration. Use seaborn"
   ]
  },
  {
   "cell_type": "code",
   "execution_count": 22,
   "metadata": {},
   "outputs": [
    {
     "data": {
      "text/plain": [
       "Text(0.5, 1.0, 'Distribution plot of Match Duration')"
      ]
     },
     "execution_count": 22,
     "metadata": {},
     "output_type": "execute_result"
    },
    {
     "data": {
      "image/png": "[encoded data removed]",
      "text/plain": [
       "<Figure size 1152x576 with 1 Axes>"
      ]
     },
     "metadata": {
      "needs_background": "light"
     },
     "output_type": "display_data"
    }
   ],
   "source": [
    "sns.distplot(pubg['matchDuration'], bins=50)\n",
    "plt.grid()\n",
    "plt.title('Distribution plot of Match Duration')"
   ]
  },
  {
   "cell_type": "markdown",
   "metadata": {},
   "source": [
    "It's look like match duration have two groups in time. most of the player's math duaration falls under these two groups. one group is 1250sec to 1500sec. and second group is 1750sec to 2000sec.(21min and 31min are the most play time of maximum player) and also there are few player with short duration and long duration in their match."
   ]
  },
  {
   "cell_type": "markdown",
   "metadata": {},
   "source": [
    "# 9. Comment on distribution of the walk distance. Use seaborn"
   ]
  },
  {
   "cell_type": "code",
   "execution_count": 26,
   "metadata": {},
   "outputs": [
    {
     "data": {
      "text/plain": [
       "Text(0.5, 1.0, 'Distribution of Walking Distance of players')"
      ]
     },
     "execution_count": 26,
     "metadata": {},
     "output_type": "execute_result"
    },
    {
     "data": {
      "image/png": "[encoded data removed]",
      "text/plain": [
       "<Figure size 1152x576 with 1 Axes>"
      ]
     },
     "metadata": {
      "needs_background": "light"
     },
     "output_type": "display_data"
    }
   ],
   "source": [
    "sns.distplot(pubg['walkDistance'], bins=100)\n",
    "plt.grid()\n",
    "plt.title('Distribution of Walking Distance of players')"
   ]
  },
  {
   "cell_type": "markdown",
   "metadata": {},
   "source": [
    "Most of the walking distance is 0m to 4000m but the majority number is 0m to 800m means most of the player cover upto 800m distance."
   ]
  },
  {
   "cell_type": "markdown",
   "metadata": {},
   "source": [
    "# 10. Plot distribution of the match's duration vs walk distance one below the other.\n"
   ]
  },
  {
   "cell_type": "code",
   "execution_count": 44,
   "metadata": {},
   "outputs": [
    {
     "data": {
      "image/png": "[encoded data removed]",
      "text/plain": [
       "<Figure size 1152x576 with 2 Axes>"
      ]
     },
     "metadata": {
      "needs_background": "light"
     },
     "output_type": "display_data"
    }
   ],
   "source": [
    "fig, ax = plt.subplots(2,1)\n",
    "sns.distplot(pubg['matchDuration'], ax=ax[0]).set_title('Distribution plot of Match Duration')\n",
    "sns.distplot(pubg['walkDistance'],ax=ax[1]).set_title('Distribution of Walking Distance of players')\n",
    "plt.show()\n"
   ]
  },
  {
   "cell_type": "markdown",
   "metadata": {},
   "source": [
    "# 11. Plot distribution of the match's duration vs walk distance side by side"
   ]
  },
  {
   "cell_type": "code",
   "execution_count": 45,
   "metadata": {},
   "outputs": [
    {
     "data": {
      "image/png": "[encoded data removed]",
      "text/plain": [
       "<Figure size 1152x576 with 2 Axes>"
      ]
     },
     "metadata": {
      "needs_background": "light"
     },
     "output_type": "display_data"
    }
   ],
   "source": [
    "fig, ax = plt.subplots(1,2)\n",
    "sns.distplot(pubg['matchDuration'], ax=ax[0]).set_title('Distribution plot of Match Duration')\n",
    "sns.distplot(pubg['walkDistance'],ax=ax[1]).set_title('Distribution of Walking Distance of players')\n",
    "plt.show()"
   ]
  },
  {
   "cell_type": "markdown",
   "metadata": {},
   "source": [
    "# 12. Pairplot the dataframe. Comment on kills vs damage dealt, Comment on maxPlace vs numGroups."
   ]
  },
  {
   "cell_type": "markdown",
   "metadata": {},
   "source": [
    "I can't plot seaborn pairplot , when i try to do so my system is crasing. I try Google Colab ,but ther is also same problem. This is because of this dataset contain 29 column and pairplot plot all the column vs all column at once. for this my system is not capable to handle this much computing.\\\n",
    "althogh the code is:  >>   <b>sns.pairplot(data=pubg)</b> \n",
    "\n",
    "\n",
    "but I try a alternate way to answer the questions.\n"
   ]
  },
  {
   "cell_type": "markdown",
   "metadata": {},
   "source": [
    "###  kills vs damage dealt"
   ]
  },
  {
   "cell_type": "code",
   "execution_count": 49,
   "metadata": {},
   "outputs": [
    {
     "data": {
      "image/png": "[encoded data removed]",
      "text/plain": [
       "<Figure size 1152x576 with 1 Axes>"
      ]
     },
     "metadata": {
      "needs_background": "light"
     },
     "output_type": "display_data"
    }
   ],
   "source": [
    "sns.scatterplot(x='kills',y='damageDealt', data=pubg).set_title('Kills vs DamageDealt');\n",
    "#as two columns are contain numerical value. thats why i use scatterplot."
   ]
  },
  {
   "cell_type": "code",
   "execution_count": 50,
   "metadata": {},
   "outputs": [
    {
     "data": {
      "text/plain": [
       "0.8833710876723697"
      ]
     },
     "execution_count": 50,
     "metadata": {},
     "output_type": "execute_result"
    }
   ],
   "source": [
    "pubg['kills'].corr(pubg['damageDealt'])"
   ]
  },
  {
   "cell_type": "markdown",
   "metadata": {},
   "source": [
    "As we can see from scatter plot these two columns have positive correlation between them. means when a player is taking damage he is more likely to have more kills"
   ]
  },
  {
   "cell_type": "markdown",
   "metadata": {},
   "source": [
    "### maxPlace vs numGroups"
   ]
  },
  {
   "cell_type": "code",
   "execution_count": 53,
   "metadata": {},
   "outputs": [
    {
     "data": {
      "image/png": "[encoded data removed]",
      "text/plain": [
       "<Figure size 1152x576 with 1 Axes>"
      ]
     },
     "metadata": {
      "needs_background": "light"
     },
     "output_type": "display_data"
    }
   ],
   "source": [
    "sns.scatterplot(x='maxPlace', y='numGroups', data=pubg).set_title('maxplace vs numGroups');"
   ]
  },
  {
   "cell_type": "code",
   "execution_count": 54,
   "metadata": {},
   "outputs": [
    {
     "data": {
      "text/plain": [
       "0.9980078437439598"
      ]
     },
     "execution_count": 54,
     "metadata": {},
     "output_type": "execute_result"
    }
   ],
   "source": [
    "pubg['maxPlace'].corr(pubg['numGroups'])"
   ]
  },
  {
   "cell_type": "markdown",
   "metadata": {},
   "source": [
    "These two columns have strong positive correlation"
   ]
  },
  {
   "cell_type": "markdown",
   "metadata": {},
   "source": [
    "# 13. How many unique values are there in 'matchType' and what are their counts?"
   ]
  },
  {
   "cell_type": "code",
   "execution_count": 55,
   "metadata": {},
   "outputs": [
    {
     "data": {
      "text/plain": [
       "squad-fpp           3969\n",
       "duo-fpp             2282\n",
       "squad               1359\n",
       "solo-fpp            1234\n",
       "duo                  702\n",
       "solo                 386\n",
       "normal-squad-fpp      24\n",
       "normal-duo-fpp        13\n",
       "crashfpp              13\n",
       "normal-solo-fpp        8\n",
       "normal-squad           4\n",
       "flaretpp               3\n",
       "crashtpp               2\n",
       "flarefpp               1\n",
       "Name: matchType, dtype: int64"
      ]
     },
     "execution_count": 55,
     "metadata": {},
     "output_type": "execute_result"
    }
   ],
   "source": [
    "pubg['matchType'].value_counts()"
   ]
  },
  {
   "cell_type": "markdown",
   "metadata": {},
   "source": [
    "14 unique match type are there. from result we can see <b>squad-fpp</b> is most played match type"
   ]
  },
  {
   "cell_type": "markdown",
   "metadata": {},
   "source": [
    "# 14. Plot a barplot of ‘matchType’ vs 'killPoints'. Write your inferences."
   ]
  },
  {
   "cell_type": "code",
   "execution_count": 62,
   "metadata": {},
   "outputs": [
    {
     "data": {
      "image/png": "[encoded data removed]",
      "text/plain": [
       "<Figure size 1152x576 with 1 Axes>"
      ]
     },
     "metadata": {
      "needs_background": "light"
     },
     "output_type": "display_data"
    }
   ],
   "source": [
    "sns.barplot(x='matchType',y='killPoints', data=pubg).set_title('MatchType vs KillPoint');\n",
    "plt.xticks(rotation=90);"
   ]
  },
  {
   "cell_type": "markdown",
   "metadata": {},
   "source": [
    "Most of the killpoints observe from <b>normal-duo-fpp</b> matchtype. Means player got better kill point when they play this mode. and some matchtype have no value on killpoints. mabey these are not popular playing mode and people did not play that much these mode "
   ]
  },
  {
   "cell_type": "markdown",
   "metadata": {},
   "source": [
    "# 15. Plot a barplot of ‘matchType’ vs ‘weaponsAcquired’. Write your inferences."
   ]
  },
  {
   "cell_type": "code",
   "execution_count": 63,
   "metadata": {},
   "outputs": [
    {
     "data": {
      "image/png": "[encoded data removed]",
      "text/plain": [
       "<Figure size 1152x576 with 1 Axes>"
      ]
     },
     "metadata": {
      "needs_background": "light"
     },
     "output_type": "display_data"
    }
   ],
   "source": [
    "sns.barplot(x='matchType',y='weaponsAcquired', data=pubg,ci=None).set_title('MatchType vs WeaponAcquired');\n",
    "plt.xticks(rotation=90);"
   ]
  },
  {
   "cell_type": "markdown",
   "metadata": {},
   "source": [
    "The <b>normal-solo-fpp</b> mode has highest weapon acquired record. from this we can assume that when we play alone or solo game we tends to pick multiple weapon frequently."
   ]
  },
  {
   "cell_type": "markdown",
   "metadata": {},
   "source": [
    "# 16. Find the Categorical columns."
   ]
  },
  {
   "cell_type": "code",
   "execution_count": 71,
   "metadata": {},
   "outputs": [
    {
     "name": "stdout",
     "output_type": "stream",
     "text": [
      "Only Category columns are in the dataset:  Index(['Id', 'groupId', 'matchId', 'matchType'], dtype='object')\n"
     ]
    },
    {
     "data": {
      "text/html": [
       "<div>\n",
       "<style scoped>\n",
       "    .dataframe tbody tr th:only-of-type {\n",
       "        vertical-align: middle;\n",
       "    }\n",
       "\n",
       "    .dataframe tbody tr th {\n",
       "        vertical-align: top;\n",
       "    }\n",
       "\n",
       "    .dataframe thead th {\n",
       "        text-align: right;\n",
       "    }\n",
       "</style>\n",
       "<table border=\"1\" class=\"dataframe\">\n",
       "  <thead>\n",
       "    <tr style=\"text-align: right;\">\n",
       "      <th></th>\n",
       "      <th>Id</th>\n",
       "      <th>groupId</th>\n",
       "      <th>matchId</th>\n",
       "      <th>matchType</th>\n",
       "    </tr>\n",
       "  </thead>\n",
       "  <tbody>\n",
       "    <tr>\n",
       "      <th>0</th>\n",
       "      <td>2f262dd9795e60</td>\n",
       "      <td>78437bcd91d40e</td>\n",
       "      <td>d5db3a49eb2955</td>\n",
       "      <td>squad-fpp</td>\n",
       "    </tr>\n",
       "    <tr>\n",
       "      <th>1</th>\n",
       "      <td>a32847cf5bf34b</td>\n",
       "      <td>85b7ce5a12e10b</td>\n",
       "      <td>65223f05c7fdb4</td>\n",
       "      <td>squad-fpp</td>\n",
       "    </tr>\n",
       "    <tr>\n",
       "      <th>2</th>\n",
       "      <td>1b1900a9990396</td>\n",
       "      <td>edf80d6523380a</td>\n",
       "      <td>1cadec4534f30a</td>\n",
       "      <td>squad-fpp</td>\n",
       "    </tr>\n",
       "    <tr>\n",
       "      <th>3</th>\n",
       "      <td>f589dd03b60bf2</td>\n",
       "      <td>804ab5e5585558</td>\n",
       "      <td>c4a5676dc91604</td>\n",
       "      <td>squad</td>\n",
       "    </tr>\n",
       "    <tr>\n",
       "      <th>4</th>\n",
       "      <td>c23c4cc5b78b35</td>\n",
       "      <td>b3e2cd169ed920</td>\n",
       "      <td>cd595700a01bfa</td>\n",
       "      <td>squad-fpp</td>\n",
       "    </tr>\n",
       "    <tr>\n",
       "      <th>...</th>\n",
       "      <td>...</td>\n",
       "      <td>...</td>\n",
       "      <td>...</td>\n",
       "      <td>...</td>\n",
       "    </tr>\n",
       "    <tr>\n",
       "      <th>9995</th>\n",
       "      <td>ef4f474acd8e85</td>\n",
       "      <td>2eca2a8391f75d</td>\n",
       "      <td>492ecdfae90b46</td>\n",
       "      <td>squad-fpp</td>\n",
       "    </tr>\n",
       "    <tr>\n",
       "      <th>9996</th>\n",
       "      <td>cf0bf82fb4d80e</td>\n",
       "      <td>2eaf2765f93adb</td>\n",
       "      <td>14bffd71e96320</td>\n",
       "      <td>duo-fpp</td>\n",
       "    </tr>\n",
       "    <tr>\n",
       "      <th>9997</th>\n",
       "      <td>a0a31a0b1dcbe1</td>\n",
       "      <td>8d50c64ccc5071</td>\n",
       "      <td>147e4bbb62e3bb</td>\n",
       "      <td>duo-fpp</td>\n",
       "    </tr>\n",
       "    <tr>\n",
       "      <th>9998</th>\n",
       "      <td>f6874657399d69</td>\n",
       "      <td>d31843d7e62ccb</td>\n",
       "      <td>662567dcf280f5</td>\n",
       "      <td>duo-fpp</td>\n",
       "    </tr>\n",
       "    <tr>\n",
       "      <th>9999</th>\n",
       "      <td>90359b0b8f8b0d</td>\n",
       "      <td>61d5b1bb8da43f</td>\n",
       "      <td>258bfa48d88014</td>\n",
       "      <td>solo</td>\n",
       "    </tr>\n",
       "  </tbody>\n",
       "</table>\n",
       "<p>10000 rows × 4 columns</p>\n",
       "</div>"
      ],
      "text/plain": [
       "                  Id         groupId         matchId  matchType\n",
       "0     2f262dd9795e60  78437bcd91d40e  d5db3a49eb2955  squad-fpp\n",
       "1     a32847cf5bf34b  85b7ce5a12e10b  65223f05c7fdb4  squad-fpp\n",
       "2     1b1900a9990396  edf80d6523380a  1cadec4534f30a  squad-fpp\n",
       "3     f589dd03b60bf2  804ab5e5585558  c4a5676dc91604      squad\n",
       "4     c23c4cc5b78b35  b3e2cd169ed920  cd595700a01bfa  squad-fpp\n",
       "...              ...             ...             ...        ...\n",
       "9995  ef4f474acd8e85  2eca2a8391f75d  492ecdfae90b46  squad-fpp\n",
       "9996  cf0bf82fb4d80e  2eaf2765f93adb  14bffd71e96320    duo-fpp\n",
       "9997  a0a31a0b1dcbe1  8d50c64ccc5071  147e4bbb62e3bb    duo-fpp\n",
       "9998  f6874657399d69  d31843d7e62ccb  662567dcf280f5    duo-fpp\n",
       "9999  90359b0b8f8b0d  61d5b1bb8da43f  258bfa48d88014       solo\n",
       "\n",
       "[10000 rows x 4 columns]"
      ]
     },
     "execution_count": 71,
     "metadata": {},
     "output_type": "execute_result"
    }
   ],
   "source": [
    "print('Only Category columns are in the dataset: ',pubg.select_dtypes(['object']).columns)\n",
    "pubg.select_dtypes(['object'])"
   ]
  },
  {
   "cell_type": "markdown",
   "metadata": {},
   "source": [
    "# 17. Plot a boxplot of ‘matchType’ vs ‘winPlacePerc’. Write your inferences."
   ]
  },
  {
   "cell_type": "code",
   "execution_count": 73,
   "metadata": {},
   "outputs": [
    {
     "data": {
      "image/png": "[encoded data removed]",
      "text/plain": [
       "<Figure size 1152x576 with 1 Axes>"
      ]
     },
     "metadata": {
      "needs_background": "light"
     },
     "output_type": "display_data"
    }
   ],
   "source": [
    "sns.boxplot(x='matchType',y='winPlacePerc',data=pubg).set_title('MatchType vs WinPlacePerc - BoxPlot');\n",
    "plt.xticks(rotation=90);"
   ]
  },
  {
   "cell_type": "markdown",
   "metadata": {},
   "source": [
    "All data are more likely to similar as their range is quit similar except the <b>flarefpp</b> match type have minimum range. probablt people do not play this mode. and flaretpp has quit smaall range in value respect to other"
   ]
  },
  {
   "cell_type": "markdown",
   "metadata": {},
   "source": [
    "# 18. Plot a boxplot of ‘matchType’ vs ‘matchDuration’. Write your inferences."
   ]
  },
  {
   "cell_type": "code",
   "execution_count": 74,
   "metadata": {},
   "outputs": [
    {
     "data": {
      "image/png": "[encoded data removed]",
      "text/plain": [
       "<Figure size 1152x576 with 1 Axes>"
      ]
     },
     "metadata": {
      "needs_background": "light"
     },
     "output_type": "display_data"
    }
   ],
   "source": [
    "sns.boxplot(x='matchType',y='matchDuration',data=pubg).set_title('MatchType vs MatchDuration - BoxPlot');\n",
    "plt.xticks(rotation=90);"
   ]
  },
  {
   "cell_type": "markdown",
   "metadata": {},
   "source": [
    "# 19. Change the orientation of the above plot to horizontal.\n"
   ]
  },
  {
   "cell_type": "code",
   "execution_count": 78,
   "metadata": {},
   "outputs": [
    {
     "data": {
      "image/png": "[encoded data removed]",
      "text/plain": [
       "<Figure size 1152x576 with 1 Axes>"
      ]
     },
     "metadata": {
      "needs_background": "light"
     },
     "output_type": "display_data"
    }
   ],
   "source": [
    "sns.boxplot(y='matchType',x='matchDuration',data=pubg).set_title('MatchType vs MatchDuration - BoxPlot');\n",
    "plt.xticks(rotation=90);"
   ]
  },
  {
   "cell_type": "markdown",
   "metadata": {},
   "source": [
    "# 20. Add a new column called ‘KILL’ which contains the sum of following columns viz. headshotKills, teamKills, roadKills."
   ]
  },
  {
   "cell_type": "code",
   "execution_count": 79,
   "metadata": {},
   "outputs": [
    {
     "data": {
      "text/html": [
       "<div>\n",
       "<style scoped>\n",
       "    .dataframe tbody tr th:only-of-type {\n",
       "        vertical-align: middle;\n",
       "    }\n",
       "\n",
       "    .dataframe tbody tr th {\n",
       "        vertical-align: top;\n",
       "    }\n",
       "\n",
       "    .dataframe thead th {\n",
       "        text-align: right;\n",
       "    }\n",
       "</style>\n",
       "<table border=\"1\" class=\"dataframe\">\n",
       "  <thead>\n",
       "    <tr style=\"text-align: right;\">\n",
       "      <th></th>\n",
       "      <th>Id</th>\n",
       "      <th>groupId</th>\n",
       "      <th>matchId</th>\n",
       "      <th>assists</th>\n",
       "      <th>boosts</th>\n",
       "      <th>damageDealt</th>\n",
       "      <th>DBNOs</th>\n",
       "      <th>headshotKills</th>\n",
       "      <th>heals</th>\n",
       "      <th>killPlace</th>\n",
       "      <th>killPoints</th>\n",
       "      <th>kills</th>\n",
       "      <th>killStreaks</th>\n",
       "      <th>longestKill</th>\n",
       "      <th>matchDuration</th>\n",
       "      <th>matchType</th>\n",
       "      <th>maxPlace</th>\n",
       "      <th>numGroups</th>\n",
       "      <th>rankPoints</th>\n",
       "      <th>revives</th>\n",
       "      <th>rideDistance</th>\n",
       "      <th>roadKills</th>\n",
       "      <th>swimDistance</th>\n",
       "      <th>teamKills</th>\n",
       "      <th>vehicleDestroys</th>\n",
       "      <th>walkDistance</th>\n",
       "      <th>weaponsAcquired</th>\n",
       "      <th>winPoints</th>\n",
       "      <th>winPlacePerc</th>\n",
       "      <th>KILL</th>\n",
       "    </tr>\n",
       "  </thead>\n",
       "  <tbody>\n",
       "    <tr>\n",
       "      <th>0</th>\n",
       "      <td>2f262dd9795e60</td>\n",
       "      <td>78437bcd91d40e</td>\n",
       "      <td>d5db3a49eb2955</td>\n",
       "      <td>0</td>\n",
       "      <td>0</td>\n",
       "      <td>0.0</td>\n",
       "      <td>0</td>\n",
       "      <td>0</td>\n",
       "      <td>0</td>\n",
       "      <td>92</td>\n",
       "      <td>1126</td>\n",
       "      <td>0</td>\n",
       "      <td>0</td>\n",
       "      <td>0.000</td>\n",
       "      <td>1376</td>\n",
       "      <td>squad-fpp</td>\n",
       "      <td>29</td>\n",
       "      <td>28</td>\n",
       "      <td>-1</td>\n",
       "      <td>0</td>\n",
       "      <td>0.0</td>\n",
       "      <td>0</td>\n",
       "      <td>0.0</td>\n",
       "      <td>0</td>\n",
       "      <td>0</td>\n",
       "      <td>0.0</td>\n",
       "      <td>0</td>\n",
       "      <td>1470</td>\n",
       "      <td>0.0000</td>\n",
       "      <td>0</td>\n",
       "    </tr>\n",
       "    <tr>\n",
       "      <th>1</th>\n",
       "      <td>a32847cf5bf34b</td>\n",
       "      <td>85b7ce5a12e10b</td>\n",
       "      <td>65223f05c7fdb4</td>\n",
       "      <td>0</td>\n",
       "      <td>0</td>\n",
       "      <td>163.2</td>\n",
       "      <td>1</td>\n",
       "      <td>1</td>\n",
       "      <td>0</td>\n",
       "      <td>42</td>\n",
       "      <td>1309</td>\n",
       "      <td>1</td>\n",
       "      <td>1</td>\n",
       "      <td>6.589</td>\n",
       "      <td>1370</td>\n",
       "      <td>squad-fpp</td>\n",
       "      <td>28</td>\n",
       "      <td>28</td>\n",
       "      <td>-1</td>\n",
       "      <td>0</td>\n",
       "      <td>0.0</td>\n",
       "      <td>0</td>\n",
       "      <td>0.0</td>\n",
       "      <td>0</td>\n",
       "      <td>0</td>\n",
       "      <td>132.7</td>\n",
       "      <td>2</td>\n",
       "      <td>1531</td>\n",
       "      <td>0.2222</td>\n",
       "      <td>1</td>\n",
       "    </tr>\n",
       "    <tr>\n",
       "      <th>2</th>\n",
       "      <td>1b1900a9990396</td>\n",
       "      <td>edf80d6523380a</td>\n",
       "      <td>1cadec4534f30a</td>\n",
       "      <td>0</td>\n",
       "      <td>3</td>\n",
       "      <td>278.7</td>\n",
       "      <td>2</td>\n",
       "      <td>1</td>\n",
       "      <td>8</td>\n",
       "      <td>16</td>\n",
       "      <td>0</td>\n",
       "      <td>2</td>\n",
       "      <td>1</td>\n",
       "      <td>23.070</td>\n",
       "      <td>1381</td>\n",
       "      <td>squad-fpp</td>\n",
       "      <td>29</td>\n",
       "      <td>27</td>\n",
       "      <td>1479</td>\n",
       "      <td>3</td>\n",
       "      <td>0.0</td>\n",
       "      <td>0</td>\n",
       "      <td>0.0</td>\n",
       "      <td>0</td>\n",
       "      <td>0</td>\n",
       "      <td>3591.0</td>\n",
       "      <td>10</td>\n",
       "      <td>0</td>\n",
       "      <td>0.8571</td>\n",
       "      <td>1</td>\n",
       "    </tr>\n",
       "    <tr>\n",
       "      <th>3</th>\n",
       "      <td>f589dd03b60bf2</td>\n",
       "      <td>804ab5e5585558</td>\n",
       "      <td>c4a5676dc91604</td>\n",
       "      <td>0</td>\n",
       "      <td>0</td>\n",
       "      <td>191.9</td>\n",
       "      <td>1</td>\n",
       "      <td>0</td>\n",
       "      <td>0</td>\n",
       "      <td>31</td>\n",
       "      <td>0</td>\n",
       "      <td>1</td>\n",
       "      <td>1</td>\n",
       "      <td>24.890</td>\n",
       "      <td>1708</td>\n",
       "      <td>squad</td>\n",
       "      <td>27</td>\n",
       "      <td>25</td>\n",
       "      <td>1500</td>\n",
       "      <td>0</td>\n",
       "      <td>0.0</td>\n",
       "      <td>0</td>\n",
       "      <td>0.0</td>\n",
       "      <td>0</td>\n",
       "      <td>0</td>\n",
       "      <td>332.7</td>\n",
       "      <td>3</td>\n",
       "      <td>0</td>\n",
       "      <td>0.3462</td>\n",
       "      <td>0</td>\n",
       "    </tr>\n",
       "    <tr>\n",
       "      <th>4</th>\n",
       "      <td>c23c4cc5b78b35</td>\n",
       "      <td>b3e2cd169ed920</td>\n",
       "      <td>cd595700a01bfa</td>\n",
       "      <td>0</td>\n",
       "      <td>0</td>\n",
       "      <td>100.0</td>\n",
       "      <td>1</td>\n",
       "      <td>0</td>\n",
       "      <td>0</td>\n",
       "      <td>87</td>\n",
       "      <td>1332</td>\n",
       "      <td>0</td>\n",
       "      <td>0</td>\n",
       "      <td>0.000</td>\n",
       "      <td>1807</td>\n",
       "      <td>squad-fpp</td>\n",
       "      <td>30</td>\n",
       "      <td>30</td>\n",
       "      <td>-1</td>\n",
       "      <td>0</td>\n",
       "      <td>0.0</td>\n",
       "      <td>0</td>\n",
       "      <td>0.0</td>\n",
       "      <td>0</td>\n",
       "      <td>0</td>\n",
       "      <td>252.7</td>\n",
       "      <td>3</td>\n",
       "      <td>1557</td>\n",
       "      <td>0.0690</td>\n",
       "      <td>0</td>\n",
       "    </tr>\n",
       "  </tbody>\n",
       "</table>\n",
       "</div>"
      ],
      "text/plain": [
       "               Id         groupId         matchId  assists  boosts  \\\n",
       "0  2f262dd9795e60  78437bcd91d40e  d5db3a49eb2955        0       0   \n",
       "1  a32847cf5bf34b  85b7ce5a12e10b  65223f05c7fdb4        0       0   \n",
       "2  1b1900a9990396  edf80d6523380a  1cadec4534f30a        0       3   \n",
       "3  f589dd03b60bf2  804ab5e5585558  c4a5676dc91604        0       0   \n",
       "4  c23c4cc5b78b35  b3e2cd169ed920  cd595700a01bfa        0       0   \n",
       "\n",
       "   damageDealt  DBNOs  headshotKills  heals  killPlace  killPoints  kills  \\\n",
       "0          0.0      0              0      0         92        1126      0   \n",
       "1        163.2      1              1      0         42        1309      1   \n",
       "2        278.7      2              1      8         16           0      2   \n",
       "3        191.9      1              0      0         31           0      1   \n",
       "4        100.0      1              0      0         87        1332      0   \n",
       "\n",
       "   killStreaks  longestKill  matchDuration  matchType  maxPlace  numGroups  \\\n",
       "0            0        0.000           1376  squad-fpp        29         28   \n",
       "1            1        6.589           1370  squad-fpp        28         28   \n",
       "2            1       23.070           1381  squad-fpp        29         27   \n",
       "3            1       24.890           1708      squad        27         25   \n",
       "4            0        0.000           1807  squad-fpp        30         30   \n",
       "\n",
       "   rankPoints  revives  rideDistance  roadKills  swimDistance  teamKills  \\\n",
       "0          -1        0           0.0          0           0.0          0   \n",
       "1          -1        0           0.0          0           0.0          0   \n",
       "2        1479        3           0.0          0           0.0          0   \n",
       "3        1500        0           0.0          0           0.0          0   \n",
       "4          -1        0           0.0          0           0.0          0   \n",
       "\n",
       "   vehicleDestroys  walkDistance  weaponsAcquired  winPoints  winPlacePerc  \\\n",
       "0                0           0.0                0       1470        0.0000   \n",
       "1                0         132.7                2       1531        0.2222   \n",
       "2                0        3591.0               10          0        0.8571   \n",
       "3                0         332.7                3          0        0.3462   \n",
       "4                0         252.7                3       1557        0.0690   \n",
       "\n",
       "   KILL  \n",
       "0     0  \n",
       "1     1  \n",
       "2     1  \n",
       "3     0  \n",
       "4     0  "
      ]
     },
     "execution_count": 79,
     "metadata": {},
     "output_type": "execute_result"
    }
   ],
   "source": [
    "pubg['KILL'] = pubg['headshotKills'] + pubg['teamKills'] + pubg['roadKills']\n",
    "pubg.head()"
   ]
  },
  {
   "cell_type": "markdown",
   "metadata": {},
   "source": [
    "# 21. Round off column ‘winPlacePerc’ to 2 decimals.\n"
   ]
  },
  {
   "cell_type": "code",
   "execution_count": 80,
   "metadata": {},
   "outputs": [
    {
     "data": {
      "text/html": [
       "<div>\n",
       "<style scoped>\n",
       "    .dataframe tbody tr th:only-of-type {\n",
       "        vertical-align: middle;\n",
       "    }\n",
       "\n",
       "    .dataframe tbody tr th {\n",
       "        vertical-align: top;\n",
       "    }\n",
       "\n",
       "    .dataframe thead th {\n",
       "        text-align: right;\n",
       "    }\n",
       "</style>\n",
       "<table border=\"1\" class=\"dataframe\">\n",
       "  <thead>\n",
       "    <tr style=\"text-align: right;\">\n",
       "      <th></th>\n",
       "      <th>Id</th>\n",
       "      <th>groupId</th>\n",
       "      <th>matchId</th>\n",
       "      <th>assists</th>\n",
       "      <th>boosts</th>\n",
       "      <th>damageDealt</th>\n",
       "      <th>DBNOs</th>\n",
       "      <th>headshotKills</th>\n",
       "      <th>heals</th>\n",
       "      <th>killPlace</th>\n",
       "      <th>killPoints</th>\n",
       "      <th>kills</th>\n",
       "      <th>killStreaks</th>\n",
       "      <th>longestKill</th>\n",
       "      <th>matchDuration</th>\n",
       "      <th>matchType</th>\n",
       "      <th>maxPlace</th>\n",
       "      <th>numGroups</th>\n",
       "      <th>rankPoints</th>\n",
       "      <th>revives</th>\n",
       "      <th>rideDistance</th>\n",
       "      <th>roadKills</th>\n",
       "      <th>swimDistance</th>\n",
       "      <th>teamKills</th>\n",
       "      <th>vehicleDestroys</th>\n",
       "      <th>walkDistance</th>\n",
       "      <th>weaponsAcquired</th>\n",
       "      <th>winPoints</th>\n",
       "      <th>winPlacePerc</th>\n",
       "      <th>KILL</th>\n",
       "    </tr>\n",
       "  </thead>\n",
       "  <tbody>\n",
       "    <tr>\n",
       "      <th>0</th>\n",
       "      <td>2f262dd9795e60</td>\n",
       "      <td>78437bcd91d40e</td>\n",
       "      <td>d5db3a49eb2955</td>\n",
       "      <td>0</td>\n",
       "      <td>0</td>\n",
       "      <td>0.0</td>\n",
       "      <td>0</td>\n",
       "      <td>0</td>\n",
       "      <td>0</td>\n",
       "      <td>92</td>\n",
       "      <td>1126</td>\n",
       "      <td>0</td>\n",
       "      <td>0</td>\n",
       "      <td>0.000</td>\n",
       "      <td>1376</td>\n",
       "      <td>squad-fpp</td>\n",
       "      <td>29</td>\n",
       "      <td>28</td>\n",
       "      <td>-1</td>\n",
       "      <td>0</td>\n",
       "      <td>0.0</td>\n",
       "      <td>0</td>\n",
       "      <td>0.0</td>\n",
       "      <td>0</td>\n",
       "      <td>0</td>\n",
       "      <td>0.0</td>\n",
       "      <td>0</td>\n",
       "      <td>1470</td>\n",
       "      <td>0.00</td>\n",
       "      <td>0</td>\n",
       "    </tr>\n",
       "    <tr>\n",
       "      <th>1</th>\n",
       "      <td>a32847cf5bf34b</td>\n",
       "      <td>85b7ce5a12e10b</td>\n",
       "      <td>65223f05c7fdb4</td>\n",
       "      <td>0</td>\n",
       "      <td>0</td>\n",
       "      <td>163.2</td>\n",
       "      <td>1</td>\n",
       "      <td>1</td>\n",
       "      <td>0</td>\n",
       "      <td>42</td>\n",
       "      <td>1309</td>\n",
       "      <td>1</td>\n",
       "      <td>1</td>\n",
       "      <td>6.589</td>\n",
       "      <td>1370</td>\n",
       "      <td>squad-fpp</td>\n",
       "      <td>28</td>\n",
       "      <td>28</td>\n",
       "      <td>-1</td>\n",
       "      <td>0</td>\n",
       "      <td>0.0</td>\n",
       "      <td>0</td>\n",
       "      <td>0.0</td>\n",
       "      <td>0</td>\n",
       "      <td>0</td>\n",
       "      <td>132.7</td>\n",
       "      <td>2</td>\n",
       "      <td>1531</td>\n",
       "      <td>0.22</td>\n",
       "      <td>1</td>\n",
       "    </tr>\n",
       "    <tr>\n",
       "      <th>2</th>\n",
       "      <td>1b1900a9990396</td>\n",
       "      <td>edf80d6523380a</td>\n",
       "      <td>1cadec4534f30a</td>\n",
       "      <td>0</td>\n",
       "      <td>3</td>\n",
       "      <td>278.7</td>\n",
       "      <td>2</td>\n",
       "      <td>1</td>\n",
       "      <td>8</td>\n",
       "      <td>16</td>\n",
       "      <td>0</td>\n",
       "      <td>2</td>\n",
       "      <td>1</td>\n",
       "      <td>23.070</td>\n",
       "      <td>1381</td>\n",
       "      <td>squad-fpp</td>\n",
       "      <td>29</td>\n",
       "      <td>27</td>\n",
       "      <td>1479</td>\n",
       "      <td>3</td>\n",
       "      <td>0.0</td>\n",
       "      <td>0</td>\n",
       "      <td>0.0</td>\n",
       "      <td>0</td>\n",
       "      <td>0</td>\n",
       "      <td>3591.0</td>\n",
       "      <td>10</td>\n",
       "      <td>0</td>\n",
       "      <td>0.86</td>\n",
       "      <td>1</td>\n",
       "    </tr>\n",
       "    <tr>\n",
       "      <th>3</th>\n",
       "      <td>f589dd03b60bf2</td>\n",
       "      <td>804ab5e5585558</td>\n",
       "      <td>c4a5676dc91604</td>\n",
       "      <td>0</td>\n",
       "      <td>0</td>\n",
       "      <td>191.9</td>\n",
       "      <td>1</td>\n",
       "      <td>0</td>\n",
       "      <td>0</td>\n",
       "      <td>31</td>\n",
       "      <td>0</td>\n",
       "      <td>1</td>\n",
       "      <td>1</td>\n",
       "      <td>24.890</td>\n",
       "      <td>1708</td>\n",
       "      <td>squad</td>\n",
       "      <td>27</td>\n",
       "      <td>25</td>\n",
       "      <td>1500</td>\n",
       "      <td>0</td>\n",
       "      <td>0.0</td>\n",
       "      <td>0</td>\n",
       "      <td>0.0</td>\n",
       "      <td>0</td>\n",
       "      <td>0</td>\n",
       "      <td>332.7</td>\n",
       "      <td>3</td>\n",
       "      <td>0</td>\n",
       "      <td>0.35</td>\n",
       "      <td>0</td>\n",
       "    </tr>\n",
       "    <tr>\n",
       "      <th>4</th>\n",
       "      <td>c23c4cc5b78b35</td>\n",
       "      <td>b3e2cd169ed920</td>\n",
       "      <td>cd595700a01bfa</td>\n",
       "      <td>0</td>\n",
       "      <td>0</td>\n",
       "      <td>100.0</td>\n",
       "      <td>1</td>\n",
       "      <td>0</td>\n",
       "      <td>0</td>\n",
       "      <td>87</td>\n",
       "      <td>1332</td>\n",
       "      <td>0</td>\n",
       "      <td>0</td>\n",
       "      <td>0.000</td>\n",
       "      <td>1807</td>\n",
       "      <td>squad-fpp</td>\n",
       "      <td>30</td>\n",
       "      <td>30</td>\n",
       "      <td>-1</td>\n",
       "      <td>0</td>\n",
       "      <td>0.0</td>\n",
       "      <td>0</td>\n",
       "      <td>0.0</td>\n",
       "      <td>0</td>\n",
       "      <td>0</td>\n",
       "      <td>252.7</td>\n",
       "      <td>3</td>\n",
       "      <td>1557</td>\n",
       "      <td>0.07</td>\n",
       "      <td>0</td>\n",
       "    </tr>\n",
       "  </tbody>\n",
       "</table>\n",
       "</div>"
      ],
      "text/plain": [
       "               Id         groupId         matchId  assists  boosts  \\\n",
       "0  2f262dd9795e60  78437bcd91d40e  d5db3a49eb2955        0       0   \n",
       "1  a32847cf5bf34b  85b7ce5a12e10b  65223f05c7fdb4        0       0   \n",
       "2  1b1900a9990396  edf80d6523380a  1cadec4534f30a        0       3   \n",
       "3  f589dd03b60bf2  804ab5e5585558  c4a5676dc91604        0       0   \n",
       "4  c23c4cc5b78b35  b3e2cd169ed920  cd595700a01bfa        0       0   \n",
       "\n",
       "   damageDealt  DBNOs  headshotKills  heals  killPlace  killPoints  kills  \\\n",
       "0          0.0      0              0      0         92        1126      0   \n",
       "1        163.2      1              1      0         42        1309      1   \n",
       "2        278.7      2              1      8         16           0      2   \n",
       "3        191.9      1              0      0         31           0      1   \n",
       "4        100.0      1              0      0         87        1332      0   \n",
       "\n",
       "   killStreaks  longestKill  matchDuration  matchType  maxPlace  numGroups  \\\n",
       "0            0        0.000           1376  squad-fpp        29         28   \n",
       "1            1        6.589           1370  squad-fpp        28         28   \n",
       "2            1       23.070           1381  squad-fpp        29         27   \n",
       "3            1       24.890           1708      squad        27         25   \n",
       "4            0        0.000           1807  squad-fpp        30         30   \n",
       "\n",
       "   rankPoints  revives  rideDistance  roadKills  swimDistance  teamKills  \\\n",
       "0          -1        0           0.0          0           0.0          0   \n",
       "1          -1        0           0.0          0           0.0          0   \n",
       "2        1479        3           0.0          0           0.0          0   \n",
       "3        1500        0           0.0          0           0.0          0   \n",
       "4          -1        0           0.0          0           0.0          0   \n",
       "\n",
       "   vehicleDestroys  walkDistance  weaponsAcquired  winPoints  winPlacePerc  \\\n",
       "0                0           0.0                0       1470          0.00   \n",
       "1                0         132.7                2       1531          0.22   \n",
       "2                0        3591.0               10          0          0.86   \n",
       "3                0         332.7                3          0          0.35   \n",
       "4                0         252.7                3       1557          0.07   \n",
       "\n",
       "   KILL  \n",
       "0     0  \n",
       "1     1  \n",
       "2     1  \n",
       "3     0  \n",
       "4     0  "
      ]
     },
     "execution_count": 80,
     "metadata": {},
     "output_type": "execute_result"
    }
   ],
   "source": [
    "pubg['winPlacePerc'] = pubg['winPlacePerc'].round(decimals=2)\n",
    "pubg.head()"
   ]
  },
  {
   "cell_type": "markdown",
   "metadata": {},
   "source": [
    "# 22. Take a sample of size 50 from the column damageDealt for 100 times and calculate its mean. Plot it on a histogram and comment on its distribution."
   ]
  },
  {
   "cell_type": "code",
   "execution_count": 89,
   "metadata": {},
   "outputs": [],
   "source": [
    "sam_100 = [] \n",
    "for i in range(100):\n",
    "    sample = pubg['damageDealt'].sample(n=50)\n",
    "    sam_100.append(sample.mean())"
   ]
  },
  {
   "cell_type": "code",
   "execution_count": 90,
   "metadata": {},
   "outputs": [
    {
     "data": {
      "text/plain": [
       "134.63126316"
      ]
     },
     "execution_count": 90,
     "metadata": {},
     "output_type": "execute_result"
    }
   ],
   "source": [
    "bootstrap_avg = sum(sam_100)/100\n",
    "bootstrap_avg"
   ]
  },
  {
   "cell_type": "code",
   "execution_count": 91,
   "metadata": {},
   "outputs": [
    {
     "data": {
      "text/plain": [
       "129.2112641"
      ]
     },
     "execution_count": 91,
     "metadata": {},
     "output_type": "execute_result"
    }
   ],
   "source": [
    "pubg['damageDealt'].mean()"
   ]
  },
  {
   "cell_type": "markdown",
   "metadata": {},
   "source": [
    "So there is difference between original mean(129.21) and bootstap mean(134.63)"
   ]
  },
  {
   "cell_type": "code",
   "execution_count": 94,
   "metadata": {},
   "outputs": [
    {
     "data": {
      "image/png": "[encoded data removed]",
      "text/plain": [
       "<Figure size 1152x576 with 1 Axes>"
      ]
     },
     "metadata": {
      "needs_background": "light"
     },
     "output_type": "display_data"
    }
   ],
   "source": [
    "plt.hist(sam_100,bins=30);\n",
    "plt.grid()"
   ]
  },
  {
   "cell_type": "code",
   "execution_count": null,
   "metadata": {},
   "outputs": [],
   "source": []
  }
 ],
 "metadata": {
  "kernelspec": {
   "display_name": "Python 3",
   "language": "python",
   "name": "python3"
  },
  "language_info": {
   "codemirror_mode": {
    "name": "ipython",
    "version": 3
   },
   "file_extension": ".py",
   "mimetype": "text/x-python",
   "name": "python",
   "nbconvert_exporter": "python",
   "pygments_lexer": "ipython3",
   "version": "3.8.3"
  }
 },
 "nbformat": 4,
 "nbformat_minor": 4
}
