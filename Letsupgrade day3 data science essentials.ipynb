{
 "cells": [
  {
   "cell_type": "markdown",
   "metadata": {},
   "source": [
    "Question - 1:\n",
    "Create a numpy array starting from 2 till 50 with a stepsize of 3."
   ]
  },
  {
   "cell_type": "code",
   "execution_count": 2,
   "metadata": {},
   "outputs": [
    {
     "data": {
      "text/plain": [
       "array([ 2,  5,  8, 11, 14, 17, 20, 23, 26, 29, 32, 35, 38, 41, 44, 47])"
      ]
     },
     "execution_count": 2,
     "metadata": {},
     "output_type": "execute_result"
    }
   ],
   "source": [
    "import numpy as n\n",
    "a=n.arange(2,50,3)\n",
    "a"
   ]
  },
  {
   "cell_type": "markdown",
   "metadata": {},
   "source": [
    "Question - 2\n",
    "Accept two lists of 5 elements each from the user. Convert them to numpy arrays. Concatenate these arrays and print it. Also sort these arrays and print it."
   ]
  },
  {
   "cell_type": "code",
   "execution_count": 13,
   "metadata": {},
   "outputs": [
    {
     "name": "stdout",
     "output_type": "stream",
     "text": [
      "7\n",
      "6\n",
      "5\n",
      "5\n",
      "5\n",
      "5\n",
      "5\n",
      "6\n",
      "6\n",
      "7\n",
      "[5 5 5 5 5 6 6 6 7 7]\n"
     ]
    }
   ],
   "source": [
    "a=[]\n",
    "b=[]\n",
    "for j in range(5):\n",
    "    a.append(int(input()))\n",
    "for h in range(5):\n",
    "    b.append(int(input()))\n",
    "a=n.array(a)\n",
    "b=n.array(b)\n",
    "a=n.concatenate((a,b))\n",
    "a.sort()\n",
    "print(a)"
   ]
  },
  {
   "cell_type": "markdown",
   "metadata": {},
   "source": [
    "Question - 3:\n",
    "Write a code snippet to find the dimensions of a ndarray and its size"
   ]
  },
  {
   "cell_type": "code",
   "execution_count": 11,
   "metadata": {},
   "outputs": [
    {
     "name": "stdout",
     "output_type": "stream",
     "text": [
      "2\n",
      "6\n"
     ]
    }
   ],
   "source": [
    "a=n.array([[2,3,5],[5,6,3]])\n",
    "\n",
    "print(a.ndim)\n",
    "print(a.size)"
   ]
  },
  {
   "cell_type": "markdown",
   "metadata": {},
   "source": [
    "Question - 4:\n",
    "How to convert a 1D array into a 2D array? Demonstrate with the help of a code snippet"
   ]
  },
  {
   "cell_type": "code",
   "execution_count": 15,
   "metadata": {},
   "outputs": [
    {
     "name": "stdout",
     "output_type": "stream",
     "text": [
      "[[ 1  2  3  4  5]\n",
      " [ 6  7  8  9 10]]\n"
     ]
    }
   ],
   "source": [
    "a=n.array([1,2,3,4,5,6,7,8,9,10])\n",
    "a=n.reshape(a,(2,5))\n",
    "print(a)"
   ]
  },
  {
   "cell_type": "markdown",
   "metadata": {},
   "source": [
    "Questions 5:\n",
    "Consider two square numpy arrays. Stack them vertically and horizontally."
   ]
  },
  {
   "cell_type": "code",
   "execution_count": 21,
   "metadata": {},
   "outputs": [
    {
     "name": "stdout",
     "output_type": "stream",
     "text": [
      "[[1 2 3]\n",
      " [4 5 6]\n",
      " [4 5 6]\n",
      " [1 2 3]]\n",
      "[[1 2 3 4 5 6]\n",
      " [4 5 6 1 2 3]]\n"
     ]
    }
   ],
   "source": [
    "a=n.array([[1,2,3],[4,5,6]])\n",
    "b=n.array([[4,5,6],[1,2,3]])\n",
    "print(n.vstack((a,b)))\n",
    "print(n.hstack((a,b)))"
   ]
  },
  {
   "cell_type": "markdown",
   "metadata": {},
   "source": [
    "Questions 6:\n",
    "How to get unique items and counts of unique items?"
   ]
  },
  {
   "cell_type": "code",
   "execution_count": 34,
   "metadata": {},
   "outputs": [
    {
     "name": "stdout",
     "output_type": "stream",
     "text": [
      "[[   1    2]\n",
      " [   2    6]\n",
      " [   3    3]\n",
      " [   4    2]\n",
      " [   5    4]\n",
      " [   6    3]\n",
      " [   8    1]\n",
      " [   9    1]\n",
      " [  25    1]\n",
      " [  63    1]\n",
      " [5254    1]\n",
      " [5255    1]]\n"
     ]
    }
   ],
   "source": [
    "a=n.array([1,2,3,4,2,3,6,5,2,3,6,5,8,9,63,1,4,5,2,6,25,2,5,2,5255,5254])\n",
    "u,counts=n.unique(a,return_counts=True)\n",
    "a = n.asarray((u, counts)).T\n",
    "print(a)"
   ]
  },
  {
   "cell_type": "code",
   "execution_count": null,
   "metadata": {},
   "outputs": [],
   "source": []
  }
 ],
 "metadata": {
  "kernelspec": {
   "display_name": "Python 3",
   "language": "python",
   "name": "python3"
  },
  "language_info": {
   "codemirror_mode": {
    "name": "ipython",
    "version": 3
   },
   "file_extension": ".py",
   "mimetype": "text/x-python",
   "name": "python",
   "nbconvert_exporter": "python",
   "pygments_lexer": "ipython3",
   "version": "3.8.3"
  }
 },
 "nbformat": 4,
 "nbformat_minor": 4
}
