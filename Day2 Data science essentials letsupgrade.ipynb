{
 "cells": [
  {
   "cell_type": "markdown",
   "metadata": {},
   "source": [
    "Assignmet day2"
   ]
  },
  {
   "cell_type": "markdown",
   "metadata": {},
   "source": [
    "Create an empty list. Accept 10 numbers from the user and append to it the list if it is an even number."
   ]
  },
  {
   "cell_type": "code",
   "execution_count": 2,
   "metadata": {},
   "outputs": [
    {
     "name": "stdout",
     "output_type": "stream",
     "text": [
      "2\n",
      "9\n",
      "6\n",
      "8\n",
      "7\n",
      "6\n",
      "5\n",
      "25\n",
      "2\n",
      "29\n",
      "[2, 6, 8, 6, 2]\n"
     ]
    }
   ],
   "source": [
    "a=[]\n",
    "for j in range(10):\n",
    "    b=int(input())\n",
    "    if b%2==0:\n",
    "        a.append(b)\n",
    "print(a)"
   ]
  },
  {
   "cell_type": "markdown",
   "metadata": {},
   "source": [
    "Questions 2:\n",
    "Create a notebook on LIST COMPREHENSION. This exercise is to put you in a Self learning mode"
   ]
  },
  {
   "cell_type": "code",
   "execution_count": 4,
   "metadata": {},
   "outputs": [
    {
     "name": "stdout",
     "output_type": "stream",
     "text": [
      "['h', 'u', 'm', 'a', 'n']\n"
     ]
    }
   ],
   "source": [
    "h=[]\n",
    "for j in (\"human\"):\n",
    "    h.append(j)\n",
    "print(h)"
   ]
  },
  {
   "cell_type": "markdown",
   "metadata": {},
   "source": [
    "Questions 3:\n",
    "You have seen in the videos how powerful dictionary data structure is.\n",
    "In this assignment, given a number n, you have to write a program that generates a dictionary d which\n",
    "contains (i, i*i), where i is from 1 to n (both included).\n",
    "Then you have to just print this dictionary d."
   ]
  },
  {
   "cell_type": "code",
   "execution_count": 9,
   "metadata": {},
   "outputs": [
    {
     "name": "stdout",
     "output_type": "stream",
     "text": [
      "8\n",
      "{1: 1, 2: 4, 3: 9, 4: 16, 5: 25, 6: 36, 7: 49, 8: 64}\n"
     ]
    }
   ],
   "source": [
    "a={}\n",
    "n=int(input())\n",
    "h=1\n",
    "for h in range(1,n+1):\n",
    "    a[h]=h*h\n",
    "print(a)"
   ]
  },
  {
   "cell_type": "markdown",
   "metadata": {},
   "source": [
    "Write a program to compute the distance between the current position after\n",
    "a sequence of movement and original point. If the distance is a float, then\n",
    "just print the nearest integer (use round() function for that and then convert\n",
    "it into an integer)."
   ]
  },
  {
   "cell_type": "code",
   "execution_count": 13,
   "metadata": {},
   "outputs": [
    {
     "name": "stdout",
     "output_type": "stream",
     "text": [
      "4 \n",
      "up 5\n",
      "down 7\n",
      "left 6\n",
      "right 7\n",
      "2\n"
     ]
    }
   ],
   "source": [
    "a = {\"x\":0,\"y\":0}\n",
    "n = int(input())\n",
    "\n",
    "# for loop\n",
    "for i in range (n):\n",
    "    m=  input().split(\" \") \n",
    "    \n",
    "    if m[0].lower() == \"up\":     \n",
    "        a[\"y\"] += int(m[1])    \n",
    "    \n",
    "    elif m[0].lower() == \"down\":\n",
    "        a[\"y\"] -= int(m[1])\n",
    "    \n",
    "    elif m[0].lower() == \"left\":\n",
    "        a[\"x\"] -= int(m[1])\n",
    "    \n",
    "    elif m[0].lower() == \"right\":\n",
    "        a[\"x\"] += int(m[1])\n",
    "\n",
    "print(int(round((a[\"x\"]**2 + a[\"y\"]**2)**0.5)))"
   ]
  },
  {
   "cell_type": "code",
   "execution_count": null,
   "metadata": {},
   "outputs": [],
   "source": []
  }
 ],
 "metadata": {
  "kernelspec": {
   "display_name": "Python 3",
   "language": "python",
   "name": "python3"
  },
  "language_info": {
   "codemirror_mode": {
    "name": "ipython",
    "version": 3
   },
   "file_extension": ".py",
   "mimetype": "text/x-python",
   "name": "python",
   "nbconvert_exporter": "python",
   "pygments_lexer": "ipython3",
   "version": "3.8.3"
  }
 },
 "nbformat": 4,
 "nbformat_minor": 4
}
